{
  "nbformat": 4,
  "nbformat_minor": 0,
  "metadata": {
    "colab": {
      "name": "2022 - Semana 13 - LabFull.ipynb",
      "provenance": []
    },
    "kernelspec": {
      "name": "python3",
      "display_name": "Python 3"
    },
    "language_info": {
      "name": "python"
    }
  },
  "cells": [
    {
      "cell_type": "code",
      "execution_count": null,
      "metadata": {
        "colab": {
          "base_uri": "https://localhost:8080/"
        },
        "id": "9Dmdh485ofu9",
        "outputId": "65f6e56a-9388-4588-e074-61f657f8054d"
      },
      "outputs": [
        {
          "output_type": "stream",
          "name": "stdout",
          "text": [
            "Mounted at /content/drive\n"
          ]
        }
      ],
      "source": [
        "import pandas as pd\n",
        "import numpy as np\n",
        "import matplotlib.pyplot as plt"
      ]
    },
    {
      "cell_type": "code",
      "source": [
        "data = pd.read_csv(\"/content/bank-additional-full.csv\",sep=\";\")"
      ],
      "metadata": {
        "id": "z2X6dyQ8tAr9"
      },
      "execution_count": null,
      "outputs": []
    },
    {
      "cell_type": "code",
      "source": [
        "data.info()"
      ],
      "metadata": {
        "id": "vljSt-dxt1lS"
      },
      "execution_count": null,
      "outputs": []
    },
    {
      "cell_type": "code",
      "source": [
        "cat_feat = data.select_dtypes(include=[\"object\"]).columns\n",
        "\n",
        "for label, content in data[cat_feat].items():\n",
        "  print('{0}:{1}'.format(label,content.unique()))"
      ],
      "metadata": {
        "colab": {
          "base_uri": "https://localhost:8080/"
        },
        "id": "ZIPATKdiup8T",
        "outputId": "9a1f79f4-ad98-419a-dcb6-2c9e5988f68e"
      },
      "execution_count": null,
      "outputs": [
        {
          "output_type": "stream",
          "name": "stdout",
          "text": [
            "job:['housemaid' 'services' 'admin.' 'blue-collar' 'technician' 'retired'\n",
            " 'management' 'unemployed' 'self-employed' 'unknown' 'entrepreneur'\n",
            " 'student']\n",
            "marital:['married' 'single' 'divorced' 'unknown']\n",
            "education:['basic.4y' 'high.school' 'basic.6y' 'basic.9y' 'professional.course'\n",
            " 'unknown' 'university.degree' 'illiterate']\n",
            "default:['no' 'unknown' 'yes']\n",
            "housing:['no' 'yes' 'unknown']\n",
            "loan:['no' 'yes' 'unknown']\n",
            "contact:['telephone' 'cellular']\n",
            "month:['may' 'jun' 'jul' 'aug' 'oct' 'nov' 'dec' 'mar' 'apr' 'sep']\n",
            "day_of_week:['mon' 'tue' 'wed' 'thu' 'fri']\n",
            "poutcome:['nonexistent' 'failure' 'success']\n",
            "y:['no' 'yes']\n"
          ]
        }
      ]
    },
    {
      "cell_type": "code",
      "source": [
        "train = data.sample(frac=0.8,random_state=123)\n",
        "test = data.drop(train.index).sample(frac=1.0)"
      ],
      "metadata": {
        "id": "18lfo-oDwnNr"
      },
      "execution_count": null,
      "outputs": []
    },
    {
      "cell_type": "code",
      "source": [
        "target_column = \"y\"\n",
        "\n",
        "x_train = train.drop(columns=target_column)\n",
        "y_train = train[target_column]"
      ],
      "metadata": {
        "id": "tu0EScpXxSE2"
      },
      "execution_count": null,
      "outputs": []
    },
    {
      "cell_type": "code",
      "source": [
        "from sklearn.pipeline import Pipeline #ES EL NORMAL\n",
        "from sklearn.impute import SimpleImputer\n",
        "from sklearn.preprocessing import OneHotEncoder, MinMaxScaler\n",
        "from sklearn.compose import ColumnTransformer\n",
        "\n",
        "Onehot_feat = ['job','marital','education','default','housing','loan','contact','poutcome']\n",
        "Num_feat = ['age', 'duration', 'campaign', 'pdays', 'previous', 'emp.var.rate','cons.price.idx', 'cons.conf.idx', 'euribor3m', 'nr.employed']\n"
      ],
      "metadata": {
        "id": "DymafdEQzVzB"
      },
      "execution_count": null,
      "outputs": []
    },
    {
      "cell_type": "code",
      "source": [
        "from imblearn.pipeline import Pipeline\n",
        "\n",
        "ohe_pipe = Pipeline([\n",
        "                     ('imputer',SimpleImputer(strategy='constant',fill_value='missing')),\n",
        "                     ('encoder',OneHotEncoder(handle_unknown='ignore',sparse=False))\n",
        "])\n",
        "\n",
        "num_pipe = Pipeline([\n",
        "                     ('imputer',SimpleImputer(strategy='median')),\n",
        "                     ('scaler',MinMaxScaler())\n",
        "])\n",
        "\n",
        "preprocessor = ColumnTransformer([\n",
        "                     ('ohe',ohe_pipe,Onehot_feat),\n",
        "                     ('num',num_pipe,Num_feat)\n",
        "])"
      ],
      "metadata": {
        "id": "U2zJx8pp183k"
      },
      "execution_count": null,
      "outputs": []
    },
    {
      "cell_type": "code",
      "source": [
        "from sklearn.linear_model import LogisticRegression\n",
        "from sklearn.svm import SVC\n",
        "from sklearn.decomposition import PCA\n",
        "from imblearn.over_sampling import SMOTE\n",
        "\n",
        "modelo = Pipeline([\n",
        "                   ('preprocessor',preprocessor),\n",
        "                   ('balanceo',SMOTE()),\n",
        "                   ('pca',PCA(n_components=5)),\n",
        "                   ('modelo',LogisticRegression(max_iter=1000))\n",
        "])\n"
      ],
      "metadata": {
        "id": "l-LxCkza26SQ"
      },
      "execution_count": null,
      "outputs": []
    },
    {
      "cell_type": "code",
      "source": [
        "modelo.fit(x_train,y_train)"
      ],
      "metadata": {
        "colab": {
          "base_uri": "https://localhost:8080/"
        },
        "id": "5JX1-z7K4QQv",
        "outputId": "01f65e80-759b-4862-837c-e7bb3302e4ac"
      },
      "execution_count": null,
      "outputs": [
        {
          "output_type": "execute_result",
          "data": {
            "text/plain": [
              "Pipeline(steps=[('preprocessor',\n",
              "                 ColumnTransformer(transformers=[('ohe',\n",
              "                                                  Pipeline(steps=[('imputer',\n",
              "                                                                   SimpleImputer(fill_value='missing',\n",
              "                                                                                 strategy='constant')),\n",
              "                                                                  ('encoder',\n",
              "                                                                   OneHotEncoder(handle_unknown='ignore',\n",
              "                                                                                 sparse=False))]),\n",
              "                                                  ['job', 'marital',\n",
              "                                                   'education', 'default',\n",
              "                                                   'housing', 'loan', 'contact',\n",
              "                                                   'poutcome']),\n",
              "                                                 ('num',\n",
              "                                                  Pipeline(steps=[('imputer',\n",
              "                                                                   SimpleImputer(strategy='median')),\n",
              "                                                                  ('scaler',\n",
              "                                                                   MinMaxScaler())]),\n",
              "                                                  ['age', 'duration',\n",
              "                                                   'campaign', 'pdays',\n",
              "                                                   'previous', 'emp.var.rate',\n",
              "                                                   'cons.price.idx',\n",
              "                                                   'cons.conf.idx', 'euribor3m',\n",
              "                                                   'nr.employed'])])),\n",
              "                ('balanceo', SMOTE()), ('pca', PCA(n_components=5)),\n",
              "                ('modelo', LogisticRegression(max_iter=1000))])"
            ]
          },
          "metadata": {},
          "execution_count": 48
        }
      ]
    },
    {
      "cell_type": "code",
      "source": [
        "modelo.score(x_train,y_train)"
      ],
      "metadata": {
        "colab": {
          "base_uri": "https://localhost:8080/"
        },
        "id": "jJphXRnA4yka",
        "outputId": "95cdbd29-0a1f-4fda-aca2-cf08e942fb49"
      },
      "execution_count": null,
      "outputs": [
        {
          "output_type": "execute_result",
          "data": {
            "text/plain": [
              "0.7219423368740516"
            ]
          },
          "metadata": {},
          "execution_count": 49
        }
      ]
    },
    {
      "cell_type": "code",
      "source": [
        "target_column = \"y\"\n",
        "\n",
        "x_test = test.drop(columns=target_column)\n",
        "y_test = test[target_column]\n",
        "\n",
        "y_pred = modelo.predict(x_test)\n",
        "\n",
        "modelo.score(x_test,y_test)"
      ],
      "metadata": {
        "colab": {
          "base_uri": "https://localhost:8080/"
        },
        "id": "IQibEyMV4-BJ",
        "outputId": "4abdce52-5b65-4f42-bdd9-6f58c6ea47aa"
      },
      "execution_count": null,
      "outputs": [
        {
          "output_type": "execute_result",
          "data": {
            "text/plain": [
              "0.7324593347899976"
            ]
          },
          "metadata": {},
          "execution_count": 50
        }
      ]
    },
    {
      "cell_type": "code",
      "source": [
        "from sklearn.metrics import confusion_matrix, ConfusionMatrixDisplay, f1_score\n",
        "\n",
        "cm = confusion_matrix(y_test,y_pred)\n",
        "print(f1_score(y_test,y_pred,pos_label='yes'))\n",
        "ConfusionMatrixDisplay(cm, display_labels=modelo.classes_).plot()"
      ],
      "metadata": {
        "colab": {
          "base_uri": "https://localhost:8080/",
          "height": 314
        },
        "id": "QpGkikp06RiA",
        "outputId": "c752d0fb-d976-444c-99f9-904ef3e4d071"
      },
      "execution_count": null,
      "outputs": [
        {
          "output_type": "stream",
          "name": "stdout",
          "text": [
            "0.37845459672870846\n"
          ]
        },
        {
          "output_type": "execute_result",
          "data": {
            "text/plain": [
              "<sklearn.metrics._plot.confusion_matrix.ConfusionMatrixDisplay at 0x7f3b1f721950>"
            ]
          },
          "metadata": {},
          "execution_count": 51
        },
        {
          "output_type": "display_data",
          "data": {
            "text/plain": [
              "<Figure size 432x288 with 2 Axes>"
            ],
            "image/png": "[encoded data removed]"
          },
          "metadata": {
            "needs_background": "light"
          }
        }
      ]
    }
  ]
}