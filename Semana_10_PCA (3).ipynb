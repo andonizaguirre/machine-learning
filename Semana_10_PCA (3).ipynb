{
  "nbformat": 4,
  "nbformat_minor": 0,
  "metadata": {
    "colab": {
      "name": "Semana 10 - PCA.ipynb",
      "provenance": []
    },
    "kernelspec": {
      "name": "python3",
      "display_name": "Python 3"
    },
    "language_info": {
      "name": "python"
    },
    "accelerator": "GPU"
  },
  "cells": [
    {
      "cell_type": "code",
      "execution_count": 1,
      "metadata": {
        "id": "69-CF5CjMaNE"
      },
      "outputs": [],
      "source": [
        "import numpy as np\n",
        "import matplotlib.pyplot as plt\n",
        "import seaborn as sns\n",
        "from sklearn import datasets"
      ]
    },
    {
      "cell_type": "code",
      "source": [
        "iris = sns.load_dataset(\"iris\")\n",
        "iris"
      ],
      "metadata": {
        "colab": {
          "base_uri": "https://localhost:8080/",
          "height": 424
        },
        "id": "Wm0pmlaqMqsM",
        "outputId": "e6b3fbbf-bfbc-43cd-eae9-37cb441e083f"
      },
      "execution_count": 2,
      "outputs": [
        {
          "output_type": "execute_result",
          "data": {
            "text/plain": [
              "     sepal_length  sepal_width  petal_length  petal_width    species\n",
              "0             5.1          3.5           1.4          0.2     setosa\n",
              "1             4.9          3.0           1.4          0.2     setosa\n",
              "2             4.7          3.2           1.3          0.2     setosa\n",
              "3             4.6          3.1           1.5          0.2     setosa\n",
              "4             5.0          3.6           1.4          0.2     setosa\n",
              "..            ...          ...           ...          ...        ...\n",
              "145           6.7          3.0           5.2          2.3  virginica\n",
              "146           6.3          2.5           5.0          1.9  virginica\n",
              "147           6.5          3.0           5.2          2.0  virginica\n",
              "148           6.2          3.4           5.4          2.3  virginica\n",
              "149           5.9          3.0           5.1          1.8  virginica\n",
              "\n",
              "[150 rows x 5 columns]"
            ],
            "text/html": [
              "\n",
              "  <div id=\"df-8d98a3de-ea73-4d97-8291-2d7c5325dfd0\">\n",
              "    <div class=\"colab-df-container\">\n",
              "      <div>\n",
              "<style scoped>\n",
              "    .dataframe tbody tr th:only-of-type {\n",
              "        vertical-align: middle;\n",
              "    }\n",
              "\n",
              "    .dataframe tbody tr th {\n",
              "        vertical-align: top;\n",
              "    }\n",
              "\n",
              "    .dataframe thead th {\n",
              "        text-align: right;\n",
              "    }\n",
              "</style>\n",
              "<table border=\"1\" class=\"dataframe\">\n",
              "  <thead>\n",
              "    <tr style=\"text-align: right;\">\n",
              "      <th></th>\n",
              "      <th>sepal_length</th>\n",
              "      <th>sepal_width</th>\n",
              "      <th>petal_length</th>\n",
              "      <th>petal_width</th>\n",
              "      <th>species</th>\n",
              "    </tr>\n",
              "  </thead>\n",
              "  <tbody>\n",
              "    <tr>\n",
              "      <th>0</th>\n",
              "      <td>5.1</td>\n",
              "      <td>3.5</td>\n",
              "      <td>1.4</td>\n",
              "      <td>0.2</td>\n",
              "      <td>setosa</td>\n",
              "    </tr>\n",
              "    <tr>\n",
              "      <th>1</th>\n",
              "      <td>4.9</td>\n",
              "      <td>3.0</td>\n",
              "      <td>1.4</td>\n",
              "      <td>0.2</td>\n",
              "      <td>setosa</td>\n",
              "    </tr>\n",
              "    <tr>\n",
              "      <th>2</th>\n",
              "      <td>4.7</td>\n",
              "      <td>3.2</td>\n",
              "      <td>1.3</td>\n",
              "      <td>0.2</td>\n",
              "      <td>setosa</td>\n",
              "    </tr>\n",
              "    <tr>\n",
              "      <th>3</th>\n",
              "      <td>4.6</td>\n",
              "      <td>3.1</td>\n",
              "      <td>1.5</td>\n",
              "      <td>0.2</td>\n",
              "      <td>setosa</td>\n",
              "    </tr>\n",
              "    <tr>\n",
              "      <th>4</th>\n",
              "      <td>5.0</td>\n",
              "      <td>3.6</td>\n",
              "      <td>1.4</td>\n",
              "      <td>0.2</td>\n",
              "      <td>setosa</td>\n",
              "    </tr>\n",
              "    <tr>\n",
              "      <th>...</th>\n",
              "      <td>...</td>\n",
              "      <td>...</td>\n",
              "      <td>...</td>\n",
              "      <td>...</td>\n",
              "      <td>...</td>\n",
              "    </tr>\n",
              "    <tr>\n",
              "      <th>145</th>\n",
              "      <td>6.7</td>\n",
              "      <td>3.0</td>\n",
              "      <td>5.2</td>\n",
              "      <td>2.3</td>\n",
              "      <td>virginica</td>\n",
              "    </tr>\n",
              "    <tr>\n",
              "      <th>146</th>\n",
              "      <td>6.3</td>\n",
              "      <td>2.5</td>\n",
              "      <td>5.0</td>\n",
              "      <td>1.9</td>\n",
              "      <td>virginica</td>\n",
              "    </tr>\n",
              "    <tr>\n",
              "      <th>147</th>\n",
              "      <td>6.5</td>\n",
              "      <td>3.0</td>\n",
              "      <td>5.2</td>\n",
              "      <td>2.0</td>\n",
              "      <td>virginica</td>\n",
              "    </tr>\n",
              "    <tr>\n",
              "      <th>148</th>\n",
              "      <td>6.2</td>\n",
              "      <td>3.4</td>\n",
              "      <td>5.4</td>\n",
              "      <td>2.3</td>\n",
              "      <td>virginica</td>\n",
              "    </tr>\n",
              "    <tr>\n",
              "      <th>149</th>\n",
              "      <td>5.9</td>\n",
              "      <td>3.0</td>\n",
              "      <td>5.1</td>\n",
              "      <td>1.8</td>\n",
              "      <td>virginica</td>\n",
              "    </tr>\n",
              "  </tbody>\n",
              "</table>\n",
              "<p>150 rows × 5 columns</p>\n",
              "</div>\n",
              "      <button class=\"colab-df-convert\" onclick=\"convertToInteractive('df-8d98a3de-ea73-4d97-8291-2d7c5325dfd0')\"\n",
              "              title=\"Convert this dataframe to an interactive table.\"\n",
              "              style=\"display:none;\">\n",
              "        \n",
              "  <svg xmlns=\"http://www.w3.org/2000/svg\" height=\"24px\"viewBox=\"0 0 24 24\"\n",
              "       width=\"24px\">\n",
              "    <path d=\"M0 0h24v24H0V0z\" fill=\"none\"/>\n",
              "    <path d=\"M18.56 5.44l.94 2.06.94-2.06 2.06-.94-2.06-.94-.94-2.06-.94 2.06-2.06.94zm-11 1L8.5 8.5l.94-2.06 2.06-.94-2.06-.94L8.5 2.5l-.94 2.06-2.06.94zm10 10l.94 2.06.94-2.06 2.06-.94-2.06-.94-.94-2.06-.94 2.06-2.06.94z\"/><path d=\"M17.41 7.96l-1.37-1.37c-.4-.4-.92-.59-1.43-.59-.52 0-1.04.2-1.43.59L10.3 9.45l-7.72 7.72c-.78.78-.78 2.05 0 2.83L4 21.41c.39.39.9.59 1.41.59.51 0 1.02-.2 1.41-.59l7.78-7.78 2.81-2.81c.8-.78.8-2.07 0-2.86zM5.41 20L4 18.59l7.72-7.72 1.47 1.35L5.41 20z\"/>\n",
              "  </svg>\n",
              "      </button>\n",
              "      \n",
              "  <style>\n",
              "    .colab-df-container {\n",
              "      display:flex;\n",
              "      flex-wrap:wrap;\n",
              "      gap: 12px;\n",
              "    }\n",
              "\n",
              "    .colab-df-convert {\n",
              "      background-color: #E8F0FE;\n",
              "      border: none;\n",
              "      border-radius: 50%;\n",
              "      cursor: pointer;\n",
              "      display: none;\n",
              "      fill: #1967D2;\n",
              "      height: 32px;\n",
              "      padding: 0 0 0 0;\n",
              "      width: 32px;\n",
              "    }\n",
              "\n",
              "    .colab-df-convert:hover {\n",
              "      background-color: #E2EBFA;\n",
              "      box-shadow: 0px 1px 2px rgba(60, 64, 67, 0.3), 0px 1px 3px 1px rgba(60, 64, 67, 0.15);\n",
              "      fill: #174EA6;\n",
              "    }\n",
              "\n",
              "    [theme=dark] .colab-df-convert {\n",
              "      background-color: #3B4455;\n",
              "      fill: #D2E3FC;\n",
              "    }\n",
              "\n",
              "    [theme=dark] .colab-df-convert:hover {\n",
              "      background-color: #434B5C;\n",
              "      box-shadow: 0px 1px 3px 1px rgba(0, 0, 0, 0.15);\n",
              "      filter: drop-shadow(0px 1px 2px rgba(0, 0, 0, 0.3));\n",
              "      fill: #FFFFFF;\n",
              "    }\n",
              "  </style>\n",
              "\n",
              "      <script>\n",
              "        const buttonEl =\n",
              "          document.querySelector('#df-8d98a3de-ea73-4d97-8291-2d7c5325dfd0 button.colab-df-convert');\n",
              "        buttonEl.style.display =\n",
              "          google.colab.kernel.accessAllowed ? 'block' : 'none';\n",
              "\n",
              "        async function convertToInteractive(key) {\n",
              "          const element = document.querySelector('#df-8d98a3de-ea73-4d97-8291-2d7c5325dfd0');\n",
              "          const dataTable =\n",
              "            await google.colab.kernel.invokeFunction('convertToInteractive',\n",
              "                                                     [key], {});\n",
              "          if (!dataTable) return;\n",
              "\n",
              "          const docLinkHtml = 'Like what you see? Visit the ' +\n",
              "            '<a target=\"_blank\" href=https://colab.research.google.com/notebooks/data_table.ipynb>data table notebook</a>'\n",
              "            + ' to learn more about interactive tables.';\n",
              "          element.innerHTML = '';\n",
              "          dataTable['output_type'] = 'display_data';\n",
              "          await google.colab.output.renderOutput(dataTable, element);\n",
              "          const docLink = document.createElement('div');\n",
              "          docLink.innerHTML = docLinkHtml;\n",
              "          element.appendChild(docLink);\n",
              "        }\n",
              "      </script>\n",
              "    </div>\n",
              "  </div>\n",
              "  "
            ]
          },
          "metadata": {},
          "execution_count": 2
        }
      ]
    },
    {
      "cell_type": "code",
      "source": [
        "x = iris.drop(columns=\"species\",axis=1)\n",
        "y = iris[\"species\"]\n"
      ],
      "metadata": {
        "id": "DsALT9bfNJjI"
      },
      "execution_count": 3,
      "outputs": []
    },
    {
      "cell_type": "code",
      "source": [
        "from sklearn.preprocessing import StandardScaler\n",
        "scaler = StandardScaler()\n",
        "x = scaler.fit_transform(x)\n"
      ],
      "metadata": {
        "id": "2zNAV9-WNaCI"
      },
      "execution_count": 4,
      "outputs": []
    },
    {
      "cell_type": "code",
      "source": [
        "matriz_cov = np.cov(x.T)\n",
        "matriz_cov"
      ],
      "metadata": {
        "colab": {
          "base_uri": "https://localhost:8080/"
        },
        "id": "HsXP6f1qN7yW",
        "outputId": "19ddaac6-8b56-46c5-ac99-b507ccf79625"
      },
      "execution_count": 5,
      "outputs": [
        {
          "output_type": "execute_result",
          "data": {
            "text/plain": [
              "array([[ 1.00671141, -0.11835884,  0.87760447,  0.82343066],\n",
              "       [-0.11835884,  1.00671141, -0.43131554, -0.36858315],\n",
              "       [ 0.87760447, -0.43131554,  1.00671141,  0.96932762],\n",
              "       [ 0.82343066, -0.36858315,  0.96932762,  1.00671141]])"
            ]
          },
          "metadata": {},
          "execution_count": 5
        }
      ]
    },
    {
      "cell_type": "code",
      "source": [
        "eigvalue, eigvector = np.linalg.eig(matriz_cov)\n",
        "print(eigvalue)\n",
        "print(eigvector)"
      ],
      "metadata": {
        "colab": {
          "base_uri": "https://localhost:8080/"
        },
        "id": "-fyDBE9iOdWV",
        "outputId": "0fcc6f76-ce28-46c1-8ee0-8fc3d15f521a"
      },
      "execution_count": 6,
      "outputs": [
        {
          "output_type": "stream",
          "name": "stdout",
          "text": [
            "[2.93808505 0.9201649  0.14774182 0.02085386]\n",
            "[[ 0.52106591 -0.37741762 -0.71956635  0.26128628]\n",
            " [-0.26934744 -0.92329566  0.24438178 -0.12350962]\n",
            " [ 0.5804131  -0.02449161  0.14212637 -0.80144925]\n",
            " [ 0.56485654 -0.06694199  0.63427274  0.52359713]]\n"
          ]
        }
      ]
    },
    {
      "cell_type": "code",
      "source": [
        "varianza_explicada = []\n",
        "varianza_explicada_acum = []\n",
        "varianza_acum = 0\n",
        "\n",
        "for i in eigvalue:\n",
        "  varianza = (i/sum(eigvalue))*100\n",
        "  varianza_acum += varianza\n",
        "  varianza_explicada.append(varianza)\n",
        "  varianza_explicada_acum.append(varianza_acum)\n",
        "\n",
        "print(varianza_explicada)\n",
        "print(varianza_explicada_acum)\n",
        "\n",
        "\n"
      ],
      "metadata": {
        "colab": {
          "base_uri": "https://localhost:8080/"
        },
        "id": "YRR3O524PpS6",
        "outputId": "b2e0a72c-cffe-4c48-e445-0081df6a9a57"
      },
      "execution_count": 7,
      "outputs": [
        {
          "output_type": "stream",
          "name": "stdout",
          "text": [
            "[72.9624454132999, 22.850761786701725, 3.668921889282867, 0.5178709107155016]\n",
            "[72.9624454132999, 95.81320720000163, 99.4821290892845, 100.0]\n"
          ]
        }
      ]
    },
    {
      "cell_type": "code",
      "source": [
        "from sklearn.decomposition import PCA\n",
        "pca = PCA(n_components=1)\n",
        "pca.fit(x)"
      ],
      "metadata": {
        "colab": {
          "base_uri": "https://localhost:8080/"
        },
        "id": "w36txQTQjTrk",
        "outputId": "d161c83f-745a-4455-c064-346839f30dd6"
      },
      "execution_count": 8,
      "outputs": [
        {
          "output_type": "execute_result",
          "data": {
            "text/plain": [
              "PCA(n_components=1)"
            ]
          },
          "metadata": {},
          "execution_count": 8
        }
      ]
    },
    {
      "cell_type": "code",
      "source": [
        "#print(pca.components_)\n",
        "#print(pca.explained_variance_)\n",
        "#print(pca.explained_variance_ratio_)"
      ],
      "metadata": {
        "id": "_jQw-i6RjxZh"
      },
      "execution_count": 9,
      "outputs": []
    },
    {
      "cell_type": "code",
      "source": [
        "X_PCA = pca.transform(x)"
      ],
      "metadata": {
        "id": "TuU_nkYnlCfz"
      },
      "execution_count": 10,
      "outputs": []
    },
    {
      "cell_type": "code",
      "source": [
        "X_PCA"
      ],
      "metadata": {
        "id": "gubyLYWIlPJv",
        "colab": {
          "base_uri": "https://localhost:8080/"
        },
        "outputId": "e8e99d7d-2c62-4686-a49c-ff115360fddd"
      },
      "execution_count": 11,
      "outputs": [
        {
          "output_type": "execute_result",
          "data": {
            "text/plain": [
              "array([[-2.26470281],\n",
              "       [-2.08096115],\n",
              "       [-2.36422905],\n",
              "       [-2.29938422],\n",
              "       [-2.38984217],\n",
              "       [-2.07563095],\n",
              "       [-2.44402884],\n",
              "       [-2.23284716],\n",
              "       [-2.33464048],\n",
              "       [-2.18432817],\n",
              "       [-2.1663101 ],\n",
              "       [-2.32613087],\n",
              "       [-2.2184509 ],\n",
              "       [-2.6331007 ],\n",
              "       [-2.1987406 ],\n",
              "       [-2.26221453],\n",
              "       [-2.2075877 ],\n",
              "       [-2.19034951],\n",
              "       [-1.898572  ],\n",
              "       [-2.34336905],\n",
              "       [-1.914323  ],\n",
              "       [-2.20701284],\n",
              "       [-2.7743447 ],\n",
              "       [-1.81866953],\n",
              "       [-2.22716331],\n",
              "       [-1.95184633],\n",
              "       [-2.05115137],\n",
              "       [-2.16857717],\n",
              "       [-2.13956345],\n",
              "       [-2.26526149],\n",
              "       [-2.14012214],\n",
              "       [-1.83159477],\n",
              "       [-2.61494794],\n",
              "       [-2.44617739],\n",
              "       [-2.10997488],\n",
              "       [-2.2078089 ],\n",
              "       [-2.04514621],\n",
              "       [-2.52733191],\n",
              "       [-2.42963258],\n",
              "       [-2.16971071],\n",
              "       [-2.28647514],\n",
              "       [-1.85812246],\n",
              "       [-2.5536384 ],\n",
              "       [-1.96444768],\n",
              "       [-2.13705901],\n",
              "       [-2.0697443 ],\n",
              "       [-2.38473317],\n",
              "       [-2.39437631],\n",
              "       [-2.22944655],\n",
              "       [-2.20383344],\n",
              "       [ 1.10178118],\n",
              "       [ 0.73133743],\n",
              "       [ 1.24097932],\n",
              "       [ 0.40748306],\n",
              "       [ 1.0754747 ],\n",
              "       [ 0.38868734],\n",
              "       [ 0.74652974],\n",
              "       [-0.48732274],\n",
              "       [ 0.92790164],\n",
              "       [ 0.01142619],\n",
              "       [-0.11019628],\n",
              "       [ 0.44069345],\n",
              "       [ 0.56210831],\n",
              "       [ 0.71956189],\n",
              "       [-0.0333547 ],\n",
              "       [ 0.87540719],\n",
              "       [ 0.35025167],\n",
              "       [ 0.15881005],\n",
              "       [ 1.22509363],\n",
              "       [ 0.1649179 ],\n",
              "       [ 0.73768265],\n",
              "       [ 0.47628719],\n",
              "       [ 1.2341781 ],\n",
              "       [ 0.6328582 ],\n",
              "       [ 0.70266118],\n",
              "       [ 0.87427365],\n",
              "       [ 1.25650912],\n",
              "       [ 1.35840512],\n",
              "       [ 0.66480037],\n",
              "       [-0.04025861],\n",
              "       [ 0.13079518],\n",
              "       [ 0.02345269],\n",
              "       [ 0.24153827],\n",
              "       [ 1.06109461],\n",
              "       [ 0.22397877],\n",
              "       [ 0.42913912],\n",
              "       [ 1.04872805],\n",
              "       [ 1.04453138],\n",
              "       [ 0.06958832],\n",
              "       [ 0.28347724],\n",
              "       [ 0.27907778],\n",
              "       [ 0.62456979],\n",
              "       [ 0.33653037],\n",
              "       [-0.36218338],\n",
              "       [ 0.28858624],\n",
              "       [ 0.09136066],\n",
              "       [ 0.22771687],\n",
              "       [ 0.57638829],\n",
              "       [-0.44766702],\n",
              "       [ 0.25673059],\n",
              "       [ 1.84456887],\n",
              "       [ 1.15788161],\n",
              "       [ 2.20526679],\n",
              "       [ 1.44015066],\n",
              "       [ 1.86781222],\n",
              "       [ 2.75187334],\n",
              "       [ 0.36701769],\n",
              "       [ 2.30243944],\n",
              "       [ 2.00668647],\n",
              "       [ 2.25977735],\n",
              "       [ 1.36417549],\n",
              "       [ 1.60267867],\n",
              "       [ 1.8839007 ],\n",
              "       [ 1.2601151 ],\n",
              "       [ 1.4676452 ],\n",
              "       [ 1.59007732],\n",
              "       [ 1.47143146],\n",
              "       [ 2.42632899],\n",
              "       [ 3.31069558],\n",
              "       [ 1.26376667],\n",
              "       [ 2.0377163 ],\n",
              "       [ 0.97798073],\n",
              "       [ 2.89765149],\n",
              "       [ 1.33323218],\n",
              "       [ 1.7007339 ],\n",
              "       [ 1.95432671],\n",
              "       [ 1.17510363],\n",
              "       [ 1.02095055],\n",
              "       [ 1.78834992],\n",
              "       [ 1.86364755],\n",
              "       [ 2.43595373],\n",
              "       [ 2.30492772],\n",
              "       [ 1.86270322],\n",
              "       [ 1.11414774],\n",
              "       [ 1.2024733 ],\n",
              "       [ 2.79877045],\n",
              "       [ 1.57625591],\n",
              "       [ 1.3462921 ],\n",
              "       [ 0.92482492],\n",
              "       [ 1.85204505],\n",
              "       [ 2.01481043],\n",
              "       [ 1.90178409],\n",
              "       [ 1.15788161],\n",
              "       [ 2.04055823],\n",
              "       [ 1.9981471 ],\n",
              "       [ 1.87050329],\n",
              "       [ 1.56458048],\n",
              "       [ 1.5211705 ],\n",
              "       [ 1.37278779],\n",
              "       [ 0.96065603]])"
            ]
          },
          "metadata": {},
          "execution_count": 11
        }
      ]
    },
    {
      "cell_type": "code",
      "source": [
        "from sklearn.linear_model import LogisticRegression\n",
        "modelo = LogisticRegression()\n",
        "modelo.fit(x,y)\n",
        "modeloPCA = LogisticRegression()\n",
        "modeloPCA.fit(X_PCA,y)\n",
        "\n",
        "print(modelo.score(x,y)*100)\n",
        "print(modeloPCA.score(X_PCA,y)*100)"
      ],
      "metadata": {
        "colab": {
          "base_uri": "https://localhost:8080/"
        },
        "id": "LnA_Z12HleSJ",
        "outputId": "5efc4070-5405-473c-fd33-96ccf4224bf1"
      },
      "execution_count": 12,
      "outputs": [
        {
          "output_type": "stream",
          "name": "stdout",
          "text": [
            "97.33333333333334\n",
            "92.66666666666666\n"
          ]
        }
      ]
    },
    {
      "cell_type": "markdown",
      "source": [
        "# Complicarlo mas"
      ],
      "metadata": {
        "id": "V7r96ko5nEfU"
      }
    },
    {
      "cell_type": "code",
      "source": [
        "import pandas as pd\n",
        "from sklearn.preprocessing import StandardScaler\n",
        "from sklearn.decomposition import PCA\n",
        "data = pd.read_csv('/content/sample_data/mnist_train_small.csv',header=None)\n",
        "data_test = pd.read_csv('/content/sample_data/mnist_test.csv',header=None)\n",
        "x = data.drop(columns=0,axis=1)\n",
        "y = data[0]\n",
        "x_test = data_test.drop(columns=0,axis=1)\n",
        "y_test = data_test[0]\n",
        "x /= 255.0\n",
        "x_test /= 255.0"
      ],
      "metadata": {
        "id": "meZL6ks3n119"
      },
      "execution_count": 13,
      "outputs": []
    },
    {
      "cell_type": "code",
      "source": [
        "#scaler = StandardScaler()\n",
        "#x = scaler.fit_transform(x)\n",
        "pca = PCA(n_components=20)\n",
        "X_PCA = pca.fit_transform(x)\n",
        "X_PCA_test = pca.transform(x_test)"
      ],
      "metadata": {
        "id": "S2fNPvOnnDeR"
      },
      "execution_count": 14,
      "outputs": []
    },
    {
      "cell_type": "markdown",
      "source": [
        "Regresion Logistica"
      ],
      "metadata": {
        "id": "BtQyPwSstLDv"
      }
    },
    {
      "cell_type": "code",
      "source": [
        "from sklearn.linear_model import LogisticRegression\n",
        "modelo = LogisticRegression()\n",
        "modelo.fit(x,y)\n",
        "modeloPCA = LogisticRegression()\n",
        "modeloPCA.fit(X_PCA,y)\n",
        "print(modelo.score(x_test,y_test)*100)\n",
        "print(modeloPCA.score(X_PCA_test,y_test)*100)"
      ],
      "metadata": {
        "colab": {
          "base_uri": "https://localhost:8080/"
        },
        "id": "BouHtpkXnftF",
        "outputId": "f8a45533-5887-4b77-9e6c-6303ddaac498"
      },
      "execution_count": 15,
      "outputs": [
        {
          "output_type": "stream",
          "name": "stderr",
          "text": [
            "/usr/local/lib/python3.7/dist-packages/sklearn/linear_model/_logistic.py:818: ConvergenceWarning: lbfgs failed to converge (status=1):\n",
            "STOP: TOTAL NO. of ITERATIONS REACHED LIMIT.\n",
            "\n",
            "Increase the number of iterations (max_iter) or scale the data as shown in:\n",
            "    https://scikit-learn.org/stable/modules/preprocessing.html\n",
            "Please also refer to the documentation for alternative solver options:\n",
            "    https://scikit-learn.org/stable/modules/linear_model.html#logistic-regression\n",
            "  extra_warning_msg=_LOGISTIC_SOLVER_CONVERGENCE_MSG,\n"
          ]
        },
        {
          "output_type": "stream",
          "name": "stdout",
          "text": [
            "91.84\n",
            "87.91\n"
          ]
        },
        {
          "output_type": "stream",
          "name": "stderr",
          "text": [
            "/usr/local/lib/python3.7/dist-packages/sklearn/linear_model/_logistic.py:818: ConvergenceWarning: lbfgs failed to converge (status=1):\n",
            "STOP: TOTAL NO. of ITERATIONS REACHED LIMIT.\n",
            "\n",
            "Increase the number of iterations (max_iter) or scale the data as shown in:\n",
            "    https://scikit-learn.org/stable/modules/preprocessing.html\n",
            "Please also refer to the documentation for alternative solver options:\n",
            "    https://scikit-learn.org/stable/modules/linear_model.html#logistic-regression\n",
            "  extra_warning_msg=_LOGISTIC_SOLVER_CONVERGENCE_MSG,\n"
          ]
        }
      ]
    },
    {
      "cell_type": "code",
      "source": [
        "matriz_cov = np.cov(x.T)\n",
        "eigvalue, eigvector = np.linalg.eig(matriz_cov)\n",
        "varianza_explicada = []\n",
        "varianza_explicada_acum = []\n",
        "varianza_acum = 0\n",
        "\n",
        "for i in eigvalue:\n",
        "  varianza = (i/sum(eigvalue))*100\n",
        "  varianza_acum += varianza\n",
        "  varianza_explicada.append(varianza)\n",
        "  varianza_explicada_acum.append(varianza_acum)\n",
        "\n",
        "plt.plot(range(len(varianza_explicada_acum)),varianza_explicada_acum)"
      ],
      "metadata": {
        "id": "nssL-njvqLIW",
        "colab": {
          "base_uri": "https://localhost:8080/",
          "height": 337
        },
        "outputId": "6e31874d-fee4-4dce-c336-e6ac08fbfb6a"
      },
      "execution_count": 16,
      "outputs": [
        {
          "output_type": "stream",
          "name": "stderr",
          "text": [
            "/usr/local/lib/python3.7/dist-packages/matplotlib/cbook/__init__.py:1317: ComplexWarning: Casting complex values to real discards the imaginary part\n",
            "  return np.asarray(x, float)\n"
          ]
        },
        {
          "output_type": "execute_result",
          "data": {
            "text/plain": [
              "[<matplotlib.lines.Line2D at 0x7f5fc5d4db10>]"
            ]
          },
          "metadata": {},
          "execution_count": 16
        },
        {
          "output_type": "display_data",
          "data": {
            "text/plain": [
              "<Figure size 432x288 with 1 Axes>"
            ],
            "image/png": "[encoded data removed]"
          },
          "metadata": {
            "needs_background": "light"
          }
        }
      ]
    },
    {
      "cell_type": "markdown",
      "source": [
        "Con Redes Neuronales"
      ],
      "metadata": {
        "id": "AlNy1mhYtIeN"
      }
    },
    {
      "cell_type": "code",
      "source": [
        "import tensorflow as tf\n",
        "model = tf.keras.Sequential([\n",
        "                             tf.keras.layers.Flatten(input_shape=(784,)),\n",
        "                             tf.keras.layers.Dense(100,activation=\"relu\"),\n",
        "                             tf.keras.layers.Dense(10)\n",
        "])\n",
        "model.compile(optimizer=\"sgd\",\n",
        "              loss=tf.keras.losses.SparseCategoricalCrossentropy(from_logits=True),\n",
        "              metrics=[\"accuracy\"])\n",
        "epochs=20\n",
        "history = model.fit(x, y,\n",
        "                     validation_data=(x_test,y_test),\n",
        "                     epochs=epochs)"
      ],
      "metadata": {
        "id": "gcmVvUYOtICN",
        "colab": {
          "base_uri": "https://localhost:8080/"
        },
        "outputId": "64715b6d-a986-4158-faf0-809daee9bccb"
      },
      "execution_count": 19,
      "outputs": [
        {
          "output_type": "stream",
          "name": "stdout",
          "text": [
            "Epoch 1/20\n",
            "625/625 [==============================] - 5s 4ms/step - loss: 1.0543 - accuracy: 0.7452 - val_loss: 0.5685 - val_accuracy: 0.8658\n",
            "Epoch 2/20\n",
            "625/625 [==============================] - 2s 3ms/step - loss: 0.4898 - accuracy: 0.8751 - val_loss: 0.4176 - val_accuracy: 0.8907\n",
            "Epoch 3/20\n",
            "625/625 [==============================] - 2s 3ms/step - loss: 0.3975 - accuracy: 0.8919 - val_loss: 0.3664 - val_accuracy: 0.8970\n",
            "Epoch 4/20\n",
            "625/625 [==============================] - 2s 3ms/step - loss: 0.3553 - accuracy: 0.9021 - val_loss: 0.3373 - val_accuracy: 0.9037\n",
            "Epoch 5/20\n",
            "625/625 [==============================] - 2s 3ms/step - loss: 0.3299 - accuracy: 0.9084 - val_loss: 0.3184 - val_accuracy: 0.9108\n",
            "Epoch 6/20\n",
            "625/625 [==============================] - 2s 3ms/step - loss: 0.3111 - accuracy: 0.9115 - val_loss: 0.3064 - val_accuracy: 0.9127\n",
            "Epoch 7/20\n",
            "625/625 [==============================] - 2s 3ms/step - loss: 0.2962 - accuracy: 0.9158 - val_loss: 0.2927 - val_accuracy: 0.9174\n",
            "Epoch 8/20\n",
            "625/625 [==============================] - 2s 3ms/step - loss: 0.2835 - accuracy: 0.9185 - val_loss: 0.2820 - val_accuracy: 0.9189\n",
            "Epoch 9/20\n",
            "625/625 [==============================] - 2s 3ms/step - loss: 0.2724 - accuracy: 0.9226 - val_loss: 0.2740 - val_accuracy: 0.9225\n",
            "Epoch 10/20\n",
            "625/625 [==============================] - 2s 3ms/step - loss: 0.2623 - accuracy: 0.9251 - val_loss: 0.2671 - val_accuracy: 0.9239\n",
            "Epoch 11/20\n",
            "625/625 [==============================] - 2s 4ms/step - loss: 0.2534 - accuracy: 0.9273 - val_loss: 0.2593 - val_accuracy: 0.9259\n",
            "Epoch 12/20\n",
            "625/625 [==============================] - 2s 3ms/step - loss: 0.2448 - accuracy: 0.9295 - val_loss: 0.2529 - val_accuracy: 0.9279\n",
            "Epoch 13/20\n",
            "625/625 [==============================] - 2s 3ms/step - loss: 0.2364 - accuracy: 0.9327 - val_loss: 0.2465 - val_accuracy: 0.9312\n",
            "Epoch 14/20\n",
            "625/625 [==============================] - 2s 3ms/step - loss: 0.2290 - accuracy: 0.9354 - val_loss: 0.2399 - val_accuracy: 0.9318\n",
            "Epoch 15/20\n",
            "625/625 [==============================] - 2s 3ms/step - loss: 0.2224 - accuracy: 0.9374 - val_loss: 0.2361 - val_accuracy: 0.9327\n",
            "Epoch 16/20\n",
            "625/625 [==============================] - 2s 3ms/step - loss: 0.2161 - accuracy: 0.9396 - val_loss: 0.2298 - val_accuracy: 0.9345\n",
            "Epoch 17/20\n",
            "625/625 [==============================] - 2s 3ms/step - loss: 0.2097 - accuracy: 0.9410 - val_loss: 0.2253 - val_accuracy: 0.9368\n",
            "Epoch 18/20\n",
            "625/625 [==============================] - 2s 3ms/step - loss: 0.2039 - accuracy: 0.9434 - val_loss: 0.2224 - val_accuracy: 0.9371\n",
            "Epoch 19/20\n",
            "625/625 [==============================] - 2s 3ms/step - loss: 0.1984 - accuracy: 0.9453 - val_loss: 0.2160 - val_accuracy: 0.9393\n",
            "Epoch 20/20\n",
            "625/625 [==============================] - 2s 3ms/step - loss: 0.1928 - accuracy: 0.9470 - val_loss: 0.2125 - val_accuracy: 0.9398\n"
          ]
        }
      ]
    },
    {
      "cell_type": "code",
      "source": [
        "model2 = tf.keras.Sequential([\n",
        "                             tf.keras.layers.Flatten(input_shape=(20,)),\n",
        "                             tf.keras.layers.Dense(100,activation=\"relu\"),\n",
        "                             tf.keras.layers.Dense(10)\n",
        "])\n",
        "model2.compile(optimizer=\"sgd\",\n",
        "              loss=tf.keras.losses.SparseCategoricalCrossentropy(from_logits=True),\n",
        "              metrics=[\"accuracy\"])\n",
        "epochs=20\n",
        "history = model2.fit(X_PCA, y,\n",
        "                     validation_data=(X_PCA_test,y_test),\n",
        "                     epochs=epochs)"
      ],
      "metadata": {
        "colab": {
          "base_uri": "https://localhost:8080/"
        },
        "id": "lij_-5gmvGJL",
        "outputId": "1c0b4645-bbc4-4af8-a4b6-86f0071e83f1"
      },
      "execution_count": 20,
      "outputs": [
        {
          "output_type": "stream",
          "name": "stdout",
          "text": [
            "Epoch 1/20\n",
            "625/625 [==============================] - 3s 4ms/step - loss: 1.1851 - accuracy: 0.6651 - val_loss: 0.6616 - val_accuracy: 0.8333\n",
            "Epoch 2/20\n",
            "625/625 [==============================] - 2s 3ms/step - loss: 0.5627 - accuracy: 0.8483 - val_loss: 0.4730 - val_accuracy: 0.8685\n",
            "Epoch 3/20\n",
            "625/625 [==============================] - 2s 3ms/step - loss: 0.4470 - accuracy: 0.8719 - val_loss: 0.4044 - val_accuracy: 0.8838\n",
            "Epoch 4/20\n",
            "625/625 [==============================] - 2s 3ms/step - loss: 0.3938 - accuracy: 0.8850 - val_loss: 0.3664 - val_accuracy: 0.8925\n",
            "Epoch 5/20\n",
            "625/625 [==============================] - 2s 3ms/step - loss: 0.3604 - accuracy: 0.8936 - val_loss: 0.3398 - val_accuracy: 0.8998\n",
            "Epoch 6/20\n",
            "625/625 [==============================] - 2s 3ms/step - loss: 0.3363 - accuracy: 0.9008 - val_loss: 0.3210 - val_accuracy: 0.9055\n",
            "Epoch 7/20\n",
            "625/625 [==============================] - 2s 3ms/step - loss: 0.3173 - accuracy: 0.9064 - val_loss: 0.3052 - val_accuracy: 0.9105\n",
            "Epoch 8/20\n",
            "625/625 [==============================] - 2s 3ms/step - loss: 0.3017 - accuracy: 0.9100 - val_loss: 0.2920 - val_accuracy: 0.9153\n",
            "Epoch 9/20\n",
            "625/625 [==============================] - 2s 3ms/step - loss: 0.2883 - accuracy: 0.9143 - val_loss: 0.2804 - val_accuracy: 0.9186\n",
            "Epoch 10/20\n",
            "625/625 [==============================] - 2s 3ms/step - loss: 0.2765 - accuracy: 0.9180 - val_loss: 0.2703 - val_accuracy: 0.9208\n",
            "Epoch 11/20\n",
            "625/625 [==============================] - 2s 3ms/step - loss: 0.2660 - accuracy: 0.9198 - val_loss: 0.2613 - val_accuracy: 0.9238\n",
            "Epoch 12/20\n",
            "625/625 [==============================] - 2s 3ms/step - loss: 0.2566 - accuracy: 0.9234 - val_loss: 0.2528 - val_accuracy: 0.9263\n",
            "Epoch 13/20\n",
            "625/625 [==============================] - 2s 3ms/step - loss: 0.2478 - accuracy: 0.9257 - val_loss: 0.2456 - val_accuracy: 0.9275\n",
            "Epoch 14/20\n",
            "625/625 [==============================] - 2s 3ms/step - loss: 0.2402 - accuracy: 0.9286 - val_loss: 0.2383 - val_accuracy: 0.9293\n",
            "Epoch 15/20\n",
            "625/625 [==============================] - 2s 3ms/step - loss: 0.2332 - accuracy: 0.9305 - val_loss: 0.2322 - val_accuracy: 0.9310\n",
            "Epoch 16/20\n",
            "625/625 [==============================] - 2s 3ms/step - loss: 0.2264 - accuracy: 0.9323 - val_loss: 0.2267 - val_accuracy: 0.9325\n",
            "Epoch 17/20\n",
            "625/625 [==============================] - 2s 3ms/step - loss: 0.2203 - accuracy: 0.9341 - val_loss: 0.2213 - val_accuracy: 0.9339\n",
            "Epoch 18/20\n",
            "625/625 [==============================] - 2s 3ms/step - loss: 0.2147 - accuracy: 0.9363 - val_loss: 0.2161 - val_accuracy: 0.9357\n",
            "Epoch 19/20\n",
            "625/625 [==============================] - 2s 3ms/step - loss: 0.2094 - accuracy: 0.9378 - val_loss: 0.2115 - val_accuracy: 0.9366\n",
            "Epoch 20/20\n",
            "625/625 [==============================] - 2s 3ms/step - loss: 0.2047 - accuracy: 0.9390 - val_loss: 0.2075 - val_accuracy: 0.9371\n"
          ]
        }
      ]
    }
  ]
}